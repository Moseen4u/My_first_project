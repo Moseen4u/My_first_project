{
 "cells": [
  {
   "cell_type": "markdown",
   "metadata": {},
   "source": [
    " # Machine Learning Engineer Nanodegree"
   ]
  },
  {
   "cell_type": "markdown",
   "metadata": {},
   "source": [
    "## Imports and setup"
   ]
  },
  {
   "cell_type": "code",
   "execution_count": 1,
   "metadata": {},
   "outputs": [],
   "source": [
    "# Print stuff inline\n",
    "%matplotlib inline\n",
    "\n",
    "# Imports\n",
    "import re\n",
    "import warnings\n",
    "\n",
    "import matplotlib.pyplot as plt\n",
    "import numpy as np\n",
    "import pandas as pd\n",
    "from bs4 import BeautifulSoup\n",
    "from IPython.display import display\n",
    "from sklearn.model_selection import cross_validate\n",
    "from sklearn.feature_extraction.text import TfidfVectorizer\n",
    "#from sklearn.grid_search import GridSearchCV\n",
    "from sklearn.linear_model import LogisticRegression, SGDClassifier\n",
    "from sklearn.metrics import (accuracy_score, classification_report,\n",
    "                             confusion_matrix, f1_score)\n",
    "from sklearn.naive_bayes import MultinomialNB\n",
    "from wordcloud import STOPWORDS, WordCloud\n",
    "from sklearn.model_selection import GridSearchCV\n",
    "from sklearn.model_selection import train_test_split"
   ]
  },
  {
   "cell_type": "markdown",
   "metadata": {},
   "source": [
    "## Helper functions"
   ]
  },
  {
   "cell_type": "code",
   "execution_count": 2,
   "metadata": {},
   "outputs": [],
   "source": [
    "# http://stackoverflow.com/questions/33181846/programmatically-convert-pandas-dataframe-to-markdown-table\n",
    "# This function converts a pandas dataframe to a markdown table.\n",
    "def pandas_df_to_markdown_table(df):\n",
    "    fmt = ['---' for i in range(len(df.columns))]\n",
    "    df_fmt = pd.DataFrame([fmt], columns=df.columns)\n",
    "    df_formatted = pd.concat([df_fmt, df])\n",
    "    return \"|\" + df_formatted.to_csv(line_terminator=\"|\\n|\", sep=\"|\", index=False)[:-2]"
   ]
  },
  {
   "cell_type": "markdown",
   "metadata": {},
   "source": [
    "## Read in data"
   ]
  },
  {
   "cell_type": "code",
   "execution_count": 3,
   "metadata": {},
   "outputs": [
    {
     "name": "stdout",
     "output_type": "stream",
     "text": [
      "411053 Amazon mobile phone reviews with 2 features each.\n"
     ]
    },
    {
     "name": "stderr",
     "output_type": "stream",
     "text": [
      "C:\\Users\\Syed Moseen\\AppData\\Local\\Temp\\ipykernel_5312\\3682233925.py:3: DtypeWarning: Columns (0,1,4) have mixed types. Specify dtype option on import or set low_memory=False.\n",
      "  data = pd.read_csv(\"Amazon_Unlocked_Mobile.csv\")\n"
     ]
    }
   ],
   "source": [
    "# Load he data and drop columns we don't care about.\n",
    "try:\n",
    "    data = pd.read_csv(\"Amazon_Unlocked_Mobile.csv\")\n",
    "    data.drop(['Product Name', 'Brand Name','Price','Review Votes'], axis = 1, inplace = True)\n",
    "    print (\"{} Amazon mobile phone reviews with {} features each.\".format(*data.shape))\n",
    "except:\n",
    "    print (\"You need to download the dataset from https://www.kaggle.com/PromptCloudHQ/amazon-reviews-unlocked-mobile-phones\")"
   ]
  },
  {
   "cell_type": "markdown",
   "metadata": {},
   "source": [
    "## Clean Data"
   ]
  },
  {
   "cell_type": "code",
   "execution_count": 4,
   "metadata": {},
   "outputs": [],
   "source": [
    "def clean_text(string): \n",
    "    # Turn warnings off because BeautifulSoup give some we don't care about\n",
    "    warnings.filterwarnings('ignore')\n",
    "    \n",
    "    # Remove xml formatting.\n",
    "    review_text = BeautifulSoup(string, \"lxml\").get_text() \n",
    "    \n",
    "    # Turn warnings back on\n",
    "    warnings.resetwarnings()\n",
    "    \n",
    "    # Remove all characters not in the English alphabet\n",
    "    string = re.sub(\"[^a-zA-Z]\",\" \", string)\n",
    "    \n",
    "    # Set all characters to lower case.\n",
    "    string = string.lower()\n",
    "    \n",
    "    return string"
   ]
  },
  {
   "cell_type": "code",
   "execution_count": 5,
   "metadata": {},
   "outputs": [
    {
     "name": "stdout",
     "output_type": "stream",
     "text": [
      "0    I feel so LUCKY to have found this used (phone...\n",
      "1    nice phone, nice up grade from my pantach revu...\n",
      "2                                         Very pleased\n",
      "3    It works good but it goes slow sometimes but i...\n",
      "4    Great phone to replace my lost phone. The only...\n",
      "5    I already had a phone with problems... I know ...\n",
      "6    The charging port was loose. I got that solder...\n",
      "7    Phone looks good but wouldn't stay charged, ha...\n",
      "8    I originally was using the Samsung S2 Galaxy f...\n",
      "9    It's battery life is great. It's very responsi...\n",
      "Name: Reviews, dtype: object\n"
     ]
    }
   ],
   "source": [
    "# Sometimes people leave ratings without reviews. We are going to ignore empty reviews.\n",
    "data = data[data['Reviews'].isnull()==False]\n",
    "\n",
    "# Get the ratings column.\n",
    "ratings = data['Rating']\n",
    "\n",
    "# Get the reviews column, and clean the reviews.\n",
    "reviews = map(clean_text, data['Reviews'])\n",
    "print(data['Reviews'][0:10])"
   ]
  },
  {
   "cell_type": "markdown",
   "metadata": {},
   "source": [
    "## Explore Data"
   ]
  },
  {
   "cell_type": "code",
   "execution_count": 6,
   "metadata": {},
   "outputs": [
    {
     "data": {
      "text/plain": [
       "Text(0, 0.5, 'Count')"
      ]
     },
     "execution_count": 6,
     "metadata": {},
     "output_type": "execute_result"
    },
    {
     "data": {
      "image/png": "[encoded data removed]",
      "text/plain": [
       "<Figure size 640x480 with 1 Axes>"
      ]
     },
     "metadata": {},
     "output_type": "display_data"
    }
   ],
   "source": [
    "# https://github.com/ipython/ipython/issues/9242\n",
    "warnings.filterwarnings('ignore', category=DeprecationWarning, message='.*use @default decorator instead.*')\n",
    "\n",
    "# Create and print a rating distribution graph.\n",
    "rating_distribution_plt = data.groupby(['Rating']).count().plot(kind='bar', legend=None, title=\"Rating Distribution\")\n",
    "rating_distribution_plt.set_xlabel(\"Rating\")\n",
    "rating_distribution_plt.set_ylabel(\"Count\")"
   ]
  },
  {
   "cell_type": "code",
   "execution_count": 7,
   "metadata": {},
   "outputs": [
    {
     "data": {
      "text/plain": [
       "Text(0, 0.5, 'Count')"
      ]
     },
     "execution_count": 7,
     "metadata": {},
     "output_type": "execute_result"
    },
    {
     "data": {
      "image/png": "[encoded data removed]",
      "text/plain": [
       "<Figure size 1200x600 with 1 Axes>"
      ]
     },
     "metadata": {},
     "output_type": "display_data"
    }
   ],
   "source": [
    "# Create and print a Reviews length distribution graph.\n",
    "review_length_distribution_plt = pd.DataFrame(data[\"Reviews\"].str.len())\n",
    "review_length_distribution_plt = review_length_distribution_plt[review_length_distribution_plt.Reviews < 5000]\n",
    "review_length_distribution_plt.groupby([\"Reviews\"])\n",
    "review_length_distribution_plt = review_length_distribution_plt.plot(kind='hist', \n",
    "                                                                     legend=None, \n",
    "                                                                     bins=50, \n",
    "                                                                     figsize=(12, 6))\n",
    "review_length_distribution_plt.set_xlabel(\"Review Length\")\n",
    "review_length_distribution_plt.set_ylabel(\"Count\")\n"
   ]
  },
  {
   "cell_type": "markdown",
   "metadata": {},
   "source": [
    "## Feature Extraction"
   ]
  },
  {
   "cell_type": "code",
   "execution_count": 8,
   "metadata": {},
   "outputs": [],
   "source": [
    "vectorizer = TfidfVectorizer(\n",
    "        min_df=2,               # Ignore phrases that are in fewer than 2 reviews\n",
    "        max_df=0.95,            # Ignore phrases that are in 95% of reviews\n",
    "        ngram_range = (1,4),    # Take phrases between 1 and 4 words\n",
    "        stop_words = 'english', # Remove common English words\n",
    "        # max_features = 300    # The max features amount of features. Set this to \n",
    "                                # something small when getting most relevant phrases to \n",
    "                                # prevent crases (We have to do some array conversions which \n",
    "                                # take a lot of memory)\n",
    "        )\n",
    "\n",
    "# Extract features from reviews.\n",
    "review_features = vectorizer.fit_transform(reviews)"
   ]
  },
  {
   "cell_type": "markdown",
   "metadata": {},
   "source": [
    "### Get most relevant  phrases"
   ]
  },
  {
   "cell_type": "code",
   "execution_count": 9,
   "metadata": {},
   "outputs": [],
   "source": [
    "def get_most_relevant_phrases():\n",
    "    # Convert features into an array\n",
    "    feature_array = np.array(vectorizer.get_feature_names()) \n",
    "    \n",
    "    # Sort features by weight.\n",
    "    tfidf_sorting = np.argsort(review_features.toarray()).flatten()[::-1]\n",
    "    \n",
    "    # Get the top eight most weighted features.\n",
    "    top_n = feature_array[tfidf_sorting][:8]\n",
    "    return top_n"
   ]
  },
  {
   "cell_type": "code",
   "execution_count": 10,
   "metadata": {},
   "outputs": [],
   "source": [
    "# It's important not to run this unless you set max_features in TfidfVectorizer to something small. \n",
    "# The array conversions can take a lot of memory.\n",
    "# print get_most_relevant_phrases()"
   ]
  },
  {
   "cell_type": "markdown",
   "metadata": {},
   "source": [
    "## Train/Test Split"
   ]
  },
  {
   "cell_type": "code",
   "execution_count": 11,
   "metadata": {},
   "outputs": [
    {
     "name": "stdout",
     "output_type": "stream",
     "text": [
      "(34793, 290698)\n"
     ]
    }
   ],
   "source": [
    "X_train, X_test, y_train, y_test = train_test_split(\n",
    "                                            review_features,   # The features we created from the reviews\n",
    "                                            ratings,           # The ratings we are trying to predict\n",
    "                                            stratify=ratings,  # We have an imbalance of 5-star reviews, so let's stratify\n",
    "                                            random_state = 12, # Random seed\n",
    "                                            test_size = 0.3    # We need to save 30% of the data for testing\n",
    "                                            )\n",
    "print( X_train.shape)"
   ]
  },
  {
   "cell_type": "markdown",
   "metadata": {},
   "source": [
    "### Benchmark model"
   ]
  },
  {
   "cell_type": "markdown",
   "metadata": {},
   "source": [
    "For the benchmark, we are not going to do any parameter tuning; we are going to use sklearns default parameters. As we will see, logistic regression does fairly well right out of the box. "
   ]
  },
  {
   "cell_type": "code",
   "execution_count": 12,
   "metadata": {},
   "outputs": [
    {
     "name": "stderr",
     "output_type": "stream",
     "text": [
      "C:\\Users\\Syed Moseen\\anaconda3\\Lib\\site-packages\\sklearn\\linear_model\\_logistic.py:460: ConvergenceWarning: lbfgs failed to converge (status=1):\n",
      "STOP: TOTAL NO. of ITERATIONS REACHED LIMIT.\n",
      "\n",
      "Increase the number of iterations (max_iter) or scale the data as shown in:\n",
      "    https://scikit-learn.org/stable/modules/preprocessing.html\n",
      "Please also refer to the documentation for alternative solver options:\n",
      "    https://scikit-learn.org/stable/modules/linear_model.html#logistic-regression\n",
      "  n_iter_i = _check_optimize_result(\n"
     ]
    },
    {
     "name": "stdout",
     "output_type": "stream",
     "text": [
      "|Rating|Reviews|\n",
      "|---|---|\n",
      "|1.0|Got my iphone and the home button was broke|\n",
      "|5.0|I loved it and the speed it came in|\n",
      "|5.0|Cool|\n",
      "|5.0|Works as expected!|\n",
      "|1.0|This was a great phone it's time but my 5s was defective. I bought a SE and couldn't be happier with it.|\n",
      "|5.0|Good|\n"
     ]
    },
    {
     "name": "stderr",
     "output_type": "stream",
     "text": [
      "C:\\Users\\Syed Moseen\\AppData\\Local\\Temp\\ipykernel_5312\\1042243018.py:7: FutureWarning: the 'line_terminator'' keyword is deprecated, use 'lineterminator' instead.\n",
      "  return \"|\" + df_formatted.to_csv(line_terminator=\"|\\n|\", sep=\"|\", index=False)[:-2]\n"
     ]
    }
   ],
   "source": [
    "clf_benchmark = LogisticRegression(random_state=22).fit(X_train, y_train)\n",
    "example_review_set = pd.DataFrame(y_test[191:197].index).join(data, on=0)\n",
    "print (pandas_df_to_markdown_table(example_review_set[['Rating','Reviews']]))\n",
    "#reviewsq = map(clean_text, data['Reviews'][0:10])\n",
    "#inputereview = vectorizer.fit_transform(reviewsq)\n",
    "\n",
    "#print(clf_benchmark.predict(inputereview))\n",
    "#print( classification_report(y_test, clf_benchmark.predict(X_test), digits=4))"
   ]
  },
  {
   "cell_type": "markdown",
   "metadata": {},
   "source": [
    "### Other models "
   ]
  },
  {
   "cell_type": "markdown",
   "metadata": {},
   "source": [
    "Create an unoptimized MultinomialNB classifier."
   ]
  },
  {
   "cell_type": "code",
   "execution_count": 13,
   "metadata": {
    "scrolled": true
   },
   "outputs": [
    {
     "name": "stdout",
     "output_type": "stream",
     "text": [
      "              precision    recall  f1-score   support\n",
      "\n",
      "         1.0     0.8668    0.8507    0.8587      3068\n",
      "         2.0     1.0000    0.2300    0.3740       800\n",
      "         3.0     0.9955    0.2357    0.3812       946\n",
      "         4.0     0.9947    0.3079    0.4702      1822\n",
      "         5.0     0.7559    0.9982    0.8603      8276\n",
      "\n",
      "    accuracy                         0.7939     14912\n",
      "   macro avg     0.9226    0.5245    0.5889     14912\n",
      "weighted avg     0.8362    0.7939    0.7558     14912\n",
      "\n"
     ]
    }
   ],
   "source": [
    "clf_NB = MultinomialNB()\n",
    "clf_NB.fit(X_train, y_train)\n",
    "print( classification_report(y_test, clf_NB.predict(X_test), digits=4))"
   ]
  },
  {
   "cell_type": "markdown",
   "metadata": {},
   "source": [
    "Create an unoptimized SGDClassifier classifier."
   ]
  },
  {
   "cell_type": "markdown",
   "metadata": {},
   "source": [
    "### Refinement "
   ]
  },
  {
   "cell_type": "markdown",
   "metadata": {},
   "source": [
    "The alpha paramter determines what value we give the when we see a feature that we haven’t encountered in the testing data. We can’t use 0 because MultinomialNB multiplies these probabilities together and our whole prediction becomes 0. For example, if we find a 5-star review with a single word that we’ve never seen in a 5-star review before we don’t want our prediction to be 0."
   ]
  },
  {
   "cell_type": "code",
   "execution_count": null,
   "metadata": {},
   "outputs": [],
   "source": []
  },
  {
   "cell_type": "code",
   "execution_count": null,
   "metadata": {},
   "outputs": [],
   "source": []
  },
  {
   "cell_type": "code",
   "execution_count": null,
   "metadata": {},
   "outputs": [],
   "source": []
  }
 ],
 "metadata": {
  "anaconda-cloud": {},
  "kernelspec": {
   "display_name": "Python 3 (ipykernel)",
   "language": "python",
   "name": "python3"
  },
  "language_info": {
   "codemirror_mode": {
    "name": "ipython",
    "version": 3
   },
   "file_extension": ".py",
   "mimetype": "text/x-python",
   "name": "python",
   "nbconvert_exporter": "python",
   "pygments_lexer": "ipython3",
   "version": "3.11.4"
  }
 },
 "nbformat": 4,
 "nbformat_minor": 1
}
